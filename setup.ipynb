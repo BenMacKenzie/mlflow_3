{
 "cells": [
  {
   "cell_type": "code",
   "execution_count": 0,
   "metadata": {
    "application/vnd.databricks.v1+cell": {
     "cellMetadata": {
      "byteLimit": 2048000,
      "rowLimit": 10000
     },
     "inputWidgets": {},
     "nuid": "00f87020-cc96-4ecf-91c0-46385b3aa50b",
     "showTitle": false,
     "tableResultSettingsMap": {},
     "title": ""
    }
   },
   "outputs": [],
   "source": [
    "catalog_name = \"bmac\"\n",
    "agents_schema_name = \"mlflow3_agents\"\n",
    "eval_schema_name = \"mlflow3_eval\"\n",
    "ml_deployment_job_schema_name = \"ml_deployment_job\"\n",
    "\n",
    "eval_schema = f\"{catalog_name}.{eval_schema_name}\"\n",
    "agents_schema=f\"{catalog_name}.{agents_schema_name}\"\n",
    "ml_deployment_job_schema=f\"{catalog_name}.{ml_deployment_job_schema_name}\"\n",
    "\n"
   ]
  },
  {
   "cell_type": "code",
   "execution_count": 0,
   "metadata": {
    "application/vnd.databricks.v1+cell": {
     "cellMetadata": {
      "byteLimit": 2048000,
      "rowLimit": 10000
     },
     "inputWidgets": {},
     "nuid": "5b524ba8-c72a-4995-9091-266ced605b98",
     "showTitle": false,
     "tableResultSettingsMap": {},
     "title": ""
    }
   },
   "outputs": [],
   "source": [
    "spark.sql(f\"CREATE CATALOG IF NOT EXISTS {catalog_name}\")\n",
    "spark.sql(f\"CREATE SCHEMA IF NOT EXISTS {agents_schema}\")\n",
    "spark.sql(f\"CREATE SCHEMA IF NOT EXISTS {ml_deployment_job_schema}\")\n",
    "spark.sql(f\"CREATE SCHEMA IF NOT EXISTS {eval_schema}\")\n"
   ]
  }
 ],
 "metadata": {
  "application/vnd.databricks.v1+notebook": {
   "computePreferences": {
    "hardware": {
     "accelerator": null,
     "gpuPoolId": null,
     "memory": null
    }
   },
   "dashboards": [],
   "environmentMetadata": {
    "base_environment": "",
    "environment_version": "2"
   },
   "inputWidgetPreferences": null,
   "language": "python",
   "notebookMetadata": {
    "pythonIndentUnit": 2
   },
   "notebookName": "setup",
   "widgets": {}
  },
  "language_info": {
   "name": "python"
  }
 },
 "nbformat": 4,
 "nbformat_minor": 0
}
