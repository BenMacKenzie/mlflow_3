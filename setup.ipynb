{
 "cells": [
  {
   "cell_type": "code",
   "execution_count": 0,
   "metadata": {
    "application/vnd.databricks.v1+cell": {
     "cellMetadata": {
      "byteLimit": 2048000,
      "rowLimit": 10000
     },
     "inputWidgets": {},
     "nuid": "9fa8987c-94f2-4d57-93f9-d700f2c8c270",
     "showTitle": false,
     "tableResultSettingsMap": {},
     "title": ""
    }
   },
   "outputs": [],
   "source": [
    "dbutils.widgets.text(\"catalog_name\", \"mlflow_3\", \"Catalog Name\")\n",
    "dbutils.widgets.text('crm_schema', \"crm\", \"CRM Schema Name\")\n",
    "dbutils.widgets.text('quickstart_schema', \"quickstart\", \"Quickstart Schema Name\")\n",
    "dbutils.widgets.text('agents_schema', \"agents\", \"Agents Schema Name\")\n",
    "dbutils.widgets.text('ml_deployment_job_schema', \"ml_deployment_job\", \"ML Deployment Job Schema Name\")"
   ]
  },
  {
   "cell_type": "code",
   "execution_count": 0,
   "metadata": {
    "application/vnd.databricks.v1+cell": {
     "cellMetadata": {
      "byteLimit": 2048000,
      "rowLimit": 10000
     },
     "inputWidgets": {},
     "nuid": "49d781fe-8582-445f-b6b9-c0eca9dc79b1",
     "showTitle": false,
     "tableResultSettingsMap": {},
     "title": ""
    }
   },
   "outputs": [],
   "source": [
    "\n",
    "catalog_name = dbutils.widgets.get(\"catalog_name\")"
   ]
  },
  {
   "cell_type": "code",
   "execution_count": 0,
   "metadata": {
    "application/vnd.databricks.v1+cell": {
     "cellMetadata": {
      "byteLimit": 2048000,
      "rowLimit": 10000
     },
     "inputWidgets": {},
     "nuid": "5b524ba8-c72a-4995-9091-266ced605b98",
     "showTitle": false,
     "tableResultSettingsMap": {},
     "title": ""
    }
   },
   "outputs": [],
   "source": [
    "spark.sql(f\"CREATE CATALOG IF NOT EXISTS {catalog_name}\")"
   ]
  },
  {
   "cell_type": "code",
   "execution_count": 0,
   "metadata": {
    "application/vnd.databricks.v1+cell": {
     "cellMetadata": {
      "byteLimit": 2048000,
      "rowLimit": 10000
     },
     "inputWidgets": {},
     "nuid": "5ea3828c-732c-4568-bccd-723359dea103",
     "showTitle": false,
     "tableResultSettingsMap": {},
     "title": ""
    }
   },
   "outputs": [],
   "source": [
    "crm_schema = f\"{catalog_name}.{dbutils.widgets.get('crm_schema')}\"\n",
    "spark.sql(f\"CREATE SCHEMA IF NOT EXISTS {crm_schema}\")"
   ]
  },
  {
   "cell_type": "code",
   "execution_count": 0,
   "metadata": {
    "application/vnd.databricks.v1+cell": {
     "cellMetadata": {
      "byteLimit": 2048000,
      "rowLimit": 10000
     },
     "inputWidgets": {},
     "nuid": "5b7e7d7d-c4d0-430c-978e-bc061279b996",
     "showTitle": false,
     "tableResultSettingsMap": {},
     "title": ""
    }
   },
   "outputs": [],
   "source": [
    "quickstart_schema = f\"{catalog_name}.{dbutils.widgets.get('quickstart_schema')}\"\n",
    "spark.sql(f\"CREATE SCHEMA IF NOT EXISTS {quickstart_schema}\")"
   ]
  },
  {
   "cell_type": "code",
   "execution_count": 0,
   "metadata": {
    "application/vnd.databricks.v1+cell": {
     "cellMetadata": {
      "byteLimit": 2048000,
      "rowLimit": 10000
     },
     "inputWidgets": {},
     "nuid": "5f0760b2-61b9-4b12-9674-2dc890a46460",
     "showTitle": false,
     "tableResultSettingsMap": {},
     "title": ""
    }
   },
   "outputs": [],
   "source": [
    "agents_schema = f\"{catalog_name}.{dbutils.widgets.get('agents_schema')}\"\n",
    "spark.sql(f\"CREATE SCHEMA IF NOT EXISTS {agents_schema}\")"
   ]
  },
  {
   "cell_type": "code",
   "execution_count": 0,
   "metadata": {
    "application/vnd.databricks.v1+cell": {
     "cellMetadata": {
      "byteLimit": 2048000,
      "rowLimit": 10000
     },
     "inputWidgets": {},
     "nuid": "d87986c4-a0f5-4ce4-86ec-7ea3b7af0ff9",
     "showTitle": false,
     "tableResultSettingsMap": {},
     "title": ""
    }
   },
   "outputs": [],
   "source": [
    "ml_deployment_job_schema = f\"{catalog_name}.{dbutils.widgets.get('ml_deployment_job_schema')}\"\n",
    "spark.sql(f\"CREATE SCHEMA IF NOT EXISTS {ml_deployment_job_schema}\")"
   ]
  }
 ],
 "metadata": {
  "application/vnd.databricks.v1+notebook": {
   "computePreferences": null,
   "dashboards": [],
   "environmentMetadata": {
    "base_environment": "",
    "environment_version": "2"
   },
   "inputWidgetPreferences": null,
   "language": "python",
   "notebookMetadata": {
    "pythonIndentUnit": 4
   },
   "notebookName": "setup",
   "widgets": {
    "agents_schema": {
     "currentValue": "agents",
     "nuid": "eb51fa42-6fde-4d87-b8d0-8da78315feef",
     "typedWidgetInfo": {
      "autoCreated": false,
      "defaultValue": "agents",
      "label": "Agents Schema Name",
      "name": "agents_schema",
      "options": {
       "widgetDisplayType": "Text",
       "validationRegex": null
      },
      "parameterDataType": "String"
     },
     "widgetInfo": {
      "widgetType": "text",
      "defaultValue": "agents",
      "label": "Agents Schema Name",
      "name": "agents_schema",
      "options": {
       "widgetType": "text",
       "autoCreated": null,
       "validationRegex": null
      }
     }
    },
    "catalog_name": {
     "currentValue": "mlflow_3",
     "nuid": "70c6b1e8-deeb-43bc-b76e-e48b7aaffdc0",
     "typedWidgetInfo": {
      "autoCreated": false,
      "defaultValue": "mlflow_3",
      "label": "Catalog Name",
      "name": "catalog_name",
      "options": {
       "widgetDisplayType": "Text",
       "validationRegex": null
      },
      "parameterDataType": "String"
     },
     "widgetInfo": {
      "widgetType": "text",
      "defaultValue": "mlflow_3",
      "label": "Catalog Name",
      "name": "catalog_name",
      "options": {
       "widgetType": "text",
       "autoCreated": null,
       "validationRegex": null
      }
     }
    },
    "crm_schema": {
     "currentValue": "crm",
     "nuid": "ad8603dc-537b-43f5-a81b-daf8c20118f1",
     "typedWidgetInfo": {
      "autoCreated": false,
      "defaultValue": "crm",
      "label": "CRM Schema Name",
      "name": "crm_schema",
      "options": {
       "widgetDisplayType": "Text",
       "validationRegex": null
      },
      "parameterDataType": "String"
     },
     "widgetInfo": {
      "widgetType": "text",
      "defaultValue": "crm",
      "label": "CRM Schema Name",
      "name": "crm_schema",
      "options": {
       "widgetType": "text",
       "autoCreated": null,
       "validationRegex": null
      }
     }
    },
    "ml_deployment_job_schema": {
     "currentValue": "ml_deployment_job",
     "nuid": "42405231-628a-4f88-84c8-d9fbbb1ffad2",
     "typedWidgetInfo": {
      "autoCreated": false,
      "defaultValue": "ml_deployment_job",
      "label": "ML Deployment Job Schema Name",
      "name": "ml_deployment_job_schema",
      "options": {
       "widgetDisplayType": "Text",
       "validationRegex": null
      },
      "parameterDataType": "String"
     },
     "widgetInfo": {
      "widgetType": "text",
      "defaultValue": "ml_deployment_job",
      "label": "ML Deployment Job Schema Name",
      "name": "ml_deployment_job_schema",
      "options": {
       "widgetType": "text",
       "autoCreated": null,
       "validationRegex": null
      }
     }
    },
    "quickstart_schema": {
     "currentValue": "quickstart",
     "nuid": "17922b3e-8d38-4b45-a34b-5663b00604d2",
     "typedWidgetInfo": {
      "autoCreated": false,
      "defaultValue": "quickstart",
      "label": "Quickstart Schema Name",
      "name": "quickstart_schema",
      "options": {
       "widgetDisplayType": "Text",
       "validationRegex": null
      },
      "parameterDataType": "String"
     },
     "widgetInfo": {
      "widgetType": "text",
      "defaultValue": "quickstart",
      "label": "Quickstart Schema Name",
      "name": "quickstart_schema",
      "options": {
       "widgetType": "text",
       "autoCreated": null,
       "validationRegex": null
      }
     }
    }
   }
  },
  "language_info": {
   "name": "python"
  }
 },
 "nbformat": 4,
 "nbformat_minor": 0
}
