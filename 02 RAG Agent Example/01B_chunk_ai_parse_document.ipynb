{
 "cells": [
  {
   "cell_type": "code",
   "execution_count": 0,
   "metadata": {
    "application/vnd.databricks.v1+cell": {
     "cellMetadata": {
      "byteLimit": 2048000,
      "rowLimit": 10000
     },
     "inputWidgets": {},
     "nuid": "3c405724-ccdb-4bad-816a-2f17c633452b",
     "showTitle": false,
     "tableResultSettingsMap": {},
     "title": ""
    },
    "jupyter": {
     "outputs_hidden": true
    }
   },
   "outputs": [],
   "source": [
    "%pip install databricks-vectorsearch"
   ]
  },
  {
   "cell_type": "code",
   "execution_count": 0,
   "metadata": {
    "application/vnd.databricks.v1+cell": {
     "cellMetadata": {
      "byteLimit": 2048000,
      "implicitDf": true,
      "rowLimit": 10000
     },
     "inputWidgets": {},
     "nuid": "d7388e6e-02df-4d36-a8ad-7d1c638ea38c",
     "showTitle": false,
     "tableResultSettingsMap": {},
     "title": ""
    }
   },
   "outputs": [],
   "source": [
    "%sql\n",
    "create table benmackenzie_catalog.mlflow3.parsed_gisa_document as\n",
    "SELECT\n",
    "  path,\n",
    "  parsed_json:document:pages AS pages,\n",
    "  parsed_json:document:elements AS elements,\n",
    "  parsed_json:document:_corrupted_data AS _corrupted_data\n",
    "FROM (\n",
    "  SELECT\n",
    "    path,\n",
    "    ai_parse_document(content) AS parsed_json\n",
    "  FROM READ_FILES('/Volumes/benmackenzie_catalog/mlflow3/documents', format => 'binaryFile')\n",
    ")"
   ]
  },
  {
   "cell_type": "code",
   "execution_count": 0,
   "metadata": {
    "application/vnd.databricks.v1+cell": {
     "cellMetadata": {
      "byteLimit": 2048000,
      "implicitDf": true,
      "rowLimit": 10000
     },
     "inputWidgets": {},
     "nuid": "8e0b3048-c367-4f08-b1e5-269360d812f3",
     "showTitle": false,
     "tableResultSettingsMap": {},
     "title": ""
    }
   },
   "outputs": [],
   "source": [
    "%sql\n",
    "CREATE OR REPLACE TABLE benmackenzie_catalog.mlflow3.gisa_document_pages as\n",
    "SELECT pos as page_number, string(value:content) as content\n",
    "FROM benmackenzie_catalog.mlflow3.parsed_gisa_document AS t,\n",
    "LATERAL variant_explode(t.pages) AS v;"
   ]
  },
  {
   "cell_type": "code",
   "execution_count": 0,
   "metadata": {
    "application/vnd.databricks.v1+cell": {
     "cellMetadata": {
      "byteLimit": 2048000,
      "implicitDf": true,
      "rowLimit": 10000
     },
     "inputWidgets": {},
     "nuid": "b819c506-22ca-410c-ac80-8061142be34e",
     "showTitle": false,
     "tableResultSettingsMap": {},
     "title": ""
    }
   },
   "outputs": [],
   "source": [
    "%sql\n",
    "select * from benmackenzie_catalog.mlflow3.gisa_document_pages"
   ]
  },
  {
   "cell_type": "code",
   "execution_count": 0,
   "metadata": {
    "application/vnd.databricks.v1+cell": {
     "cellMetadata": {
      "byteLimit": 2048000,
      "implicitDf": true,
      "rowLimit": 10000
     },
     "inputWidgets": {},
     "nuid": "fe471624-0f5a-4207-8f61-66d6094e8288",
     "showTitle": false,
     "tableResultSettingsMap": {},
     "title": ""
    }
   },
   "outputs": [],
   "source": [
    "%sql\n",
    "\n",
    "ALTER TABLE benmackenzie_catalog.mlflow3.gisa_document_pages\n",
    "SET TBLPROPERTIES (delta.enableChangeDataFeed = true)\n"
   ]
  },
  {
   "cell_type": "markdown",
   "metadata": {
    "application/vnd.databricks.v1+cell": {
     "cellMetadata": {},
     "inputWidgets": {},
     "nuid": "e8407f67-6618-48a5-84b0-82381d47efdd",
     "showTitle": false,
     "tableResultSettingsMap": {},
     "title": ""
    }
   },
   "source": [
    "##Run following cells or use UI"
   ]
  },
  {
   "cell_type": "code",
   "execution_count": 0,
   "metadata": {
    "application/vnd.databricks.v1+cell": {
     "cellMetadata": {
      "byteLimit": 2048000,
      "rowLimit": 10000
     },
     "inputWidgets": {},
     "nuid": "929acef7-2c80-4005-8a0b-02c1a9dab851",
     "showTitle": false,
     "tableResultSettingsMap": {},
     "title": ""
    }
   },
   "outputs": [],
   "source": [
    "from databricks.vector_search.client import VectorSearchClient\n",
    "\n",
    "# Get the vector search index\n",
    "vsc = VectorSearchClient(disable_notice=True)"
   ]
  },
  {
   "cell_type": "code",
   "execution_count": 0,
   "metadata": {
    "application/vnd.databricks.v1+cell": {
     "cellMetadata": {
      "byteLimit": 2048000,
      "rowLimit": 10000
     },
     "inputWidgets": {},
     "nuid": "533155e3-ceb2-48de-ae3f-76514d1c7530",
     "showTitle": false,
     "tableResultSettingsMap": {},
     "title": ""
    }
   },
   "outputs": [],
   "source": [
    "vsc.create_delta_sync_index_and_wait(\n",
    "        endpoint_name=\"one-env-shared-endpoint-12\",\n",
    "        index_name=\"benmackenzie_catalog.mlflow3.gisa_document_pages_index\",\n",
    "        primary_key=\"page_number\",\n",
    "        source_table_name=\"benmackenzie_catalog.mlflow3.gisa_document_pages\",\n",
    "        pipeline_type=\"triggered\",\n",
    "        embedding_source_column=\"content\",\n",
    "        embedding_model_endpoint_name=\"databricks-gte-large-en\"\n",
    "    )"
   ]
  },
  {
   "cell_type": "code",
   "execution_count": 0,
   "metadata": {
    "application/vnd.databricks.v1+cell": {
     "cellMetadata": {
      "byteLimit": 2048000,
      "rowLimit": 10000
     },
     "inputWidgets": {},
     "nuid": "3fb035d9-6ffc-4adb-a76c-84ab21b2eb25",
     "showTitle": false,
     "tableResultSettingsMap": {},
     "title": ""
    }
   },
   "outputs": [],
   "source": [
    "index = vsc.get_index(endpoint_name=\"one-env-shared-endpoint-12\", index_name=\"benmackenzie_catalog.mlflow3.gisa_document_pages_index\")\n",
    "index.similarity_search(columns=[\"content\", \"page_number\"], query_text=\"What are the applicable jurisdiction for Enhanced Accident Benefits coverage?\")\n"
   ]
  }
 ],
 "metadata": {
  "application/vnd.databricks.v1+notebook": {
   "computePreferences": {
    "hardware": {
     "accelerator": null,
     "gpuPoolId": null,
     "memory": null
    }
   },
   "dashboards": [],
   "environmentMetadata": {
    "base_environment": "",
    "environment_version": "3"
   },
   "inputWidgetPreferences": null,
   "language": "python",
   "notebookMetadata": {
    "mostRecentlyExecutedCommandWithImplicitDF": {
     "commandId": 4640557381790035,
     "dataframes": [
      "_sqldf"
     ]
    },
    "pythonIndentUnit": 2
   },
   "notebookName": "01B_chunk_ai_parse_document",
   "widgets": {}
  },
  "language_info": {
   "name": "python"
  }
 },
 "nbformat": 4,
 "nbformat_minor": 0
}
