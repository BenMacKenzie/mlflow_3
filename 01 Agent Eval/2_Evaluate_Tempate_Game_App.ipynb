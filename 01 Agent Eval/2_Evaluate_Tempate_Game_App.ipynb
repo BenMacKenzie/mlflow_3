{
 "cells": [
  {
   "cell_type": "code",
   "execution_count": 0,
   "metadata": {
    "application/vnd.databricks.v1+cell": {
     "cellMetadata": {
      "byteLimit": 2048000,
      "rowLimit": 10000
     },
     "inputWidgets": {},
     "nuid": "a5963919-2df4-41f3-902d-10c9b5dd4311",
     "showTitle": false,
     "tableResultSettingsMap": {},
     "title": ""
    }
   },
   "outputs": [],
   "source": [
    "%pip install mlflow openai databricks-agents\n",
    "dbutils.library.restartPython()"
   ]
  },
  {
   "cell_type": "code",
   "execution_count": 0,
   "metadata": {
    "application/vnd.databricks.v1+cell": {
     "cellMetadata": {
      "byteLimit": 2048000,
      "rowLimit": 10000
     },
     "inputWidgets": {},
     "nuid": "e47b41cc-b2e8-4726-8cbe-84dd2d1a38fd",
     "showTitle": false,
     "tableResultSettingsMap": {},
     "title": ""
    },
    "jupyter": {
     "outputs_hidden": true
    }
   },
   "outputs": [],
   "source": [
    "%run ./setup"
   ]
  },
  {
   "cell_type": "code",
   "execution_count": 0,
   "metadata": {
    "application/vnd.databricks.v1+cell": {
     "cellMetadata": {
      "byteLimit": 2048000,
      "rowLimit": 10000
     },
     "inputWidgets": {},
     "nuid": "b993bd92-f4c3-4ac0-aac8-97544b4530e0",
     "showTitle": false,
     "tableResultSettingsMap": {},
     "title": ""
    }
   },
   "outputs": [],
   "source": [
    "import mlflow\n",
    "mlflow.set_experiment(\"/User/ben.mackenzie@databricks.com/agent_template_game\")"
   ]
  },
  {
   "cell_type": "code",
   "execution_count": 0,
   "metadata": {
    "application/vnd.databricks.v1+cell": {
     "cellMetadata": {
      "byteLimit": 2048000,
      "rowLimit": 10000
     },
     "inputWidgets": {},
     "nuid": "0c98a608-567b-469e-9d2c-e04dd747b380",
     "showTitle": false,
     "tableResultSettingsMap": {},
     "title": ""
    }
   },
   "outputs": [],
   "source": [
    "import json\n",
    "import os\n",
    "import mlflow\n",
    "from openai import OpenAI\n",
    "\n",
    "# Enable automatic tracing\n",
    "mlflow.openai.autolog()\n",
    "\n",
    "# Connect to a Databricks LLM via OpenAI using the same credentials as MLflow\n",
    "# Alternatively, you can use your own OpenAI credentials here\n",
    "mlflow_creds = mlflow.utils.databricks_utils.get_databricks_host_creds()\n",
    "client = OpenAI(\n",
    "    api_key=mlflow_creds.token,\n",
    "    base_url=f\"{mlflow_creds.host}/serving-endpoints\"\n",
    ")\n",
    "\n",
    "# Basic system prompt\n",
    "SYSTEM_PROMPT = \"\"\"You are a smart bot that can complete sentence templates to make them funny.  Be creative and edgy.\"\"\"\n",
    "\n",
    "@mlflow.trace\n",
    "def generate_game(template: str):\n",
    "    \"\"\"Complete a sentence template using an LLM.\"\"\"\n",
    "\n",
    "    response = client.chat.completions.create(\n",
    "        model=\"databricks-meta-llama-3-1-8b-instruct\", \n",
    "        messages=[\n",
    "            {\"role\": \"system\", \"content\": SYSTEM_PROMPT},\n",
    "            {\"role\": \"user\", \"content\": template},\n",
    "        ],\n",
    "    )\n",
    "    return response.choices[0].message.content\n",
    "\n",
    "# Test the app\n",
    "sample_template = \"Yesterday, ____ (person) brought a ____ (item) and used it to ____ (verb) a ____ (object)\"\n",
    "result = generate_game(sample_template)\n",
    "print(f\"Input: {sample_template}\")\n",
    "print(f\"Output: {result}\")"
   ]
  },
  {
   "cell_type": "markdown",
   "metadata": {
    "application/vnd.databricks.v1+cell": {
     "cellMetadata": {},
     "inputWidgets": {},
     "nuid": "163f66b2-a122-4a6f-a1f3-15ff1e80b827",
     "showTitle": false,
     "tableResultSettingsMap": {},
     "title": ""
    }
   },
   "source": [
    "## Note Bene\n",
    "1. In previous example we built an evaluation data set using traces. Here we are just going to use a list. \n",
    "2. \"template\" corresponds to paramater in our model function "
   ]
  },
  {
   "cell_type": "code",
   "execution_count": 0,
   "metadata": {
    "application/vnd.databricks.v1+cell": {
     "cellMetadata": {
      "byteLimit": 2048000,
      "rowLimit": 10000
     },
     "inputWidgets": {},
     "nuid": "e72dfa9c-ac06-45cc-a66c-5cce4b186c8e",
     "showTitle": false,
     "tableResultSettingsMap": {},
     "title": ""
    }
   },
   "outputs": [],
   "source": [
    "# Evaluation dataset\n",
    "eval_data = [\n",
    "    {\n",
    "        \"inputs\": {\n",
    "            \"template\": \"Yesterday, ____ (person) brought a ____ (item) and used it to ____ (verb) a ____ (object)\"\n",
    "        }\n",
    "    },\n",
    "    {\n",
    "        \"inputs\": {\n",
    "            \"template\": \"I wanted to ____ (verb) but ____ (person) told me to ____ (verb) instead\"\n",
    "        }\n",
    "    },\n",
    "    {\n",
    "        \"inputs\": {\n",
    "            \"template\": \"The ____ (adjective) ____ (animal) likes to ____ (verb) in the ____ (place)\"\n",
    "        }\n",
    "    },\n",
    "    {\n",
    "        \"inputs\": {\n",
    "            \"template\": \"My favorite ____ (food) is made with ____ (ingredient) and ____ (ingredient)\"\n",
    "        }\n",
    "    },\n",
    "    {\n",
    "        \"inputs\": {\n",
    "            \"template\": \"When I grow up, I want to be a ____ (job) who can ____ (verb) all day\"\n",
    "        }\n",
    "    },\n",
    "    {\n",
    "        \"inputs\": {\n",
    "            \"template\": \"When two ____ (animals) love each other, they ____ (verb) under the ____ (place)\"\n",
    "        }\n",
    "    },\n",
    "    {\n",
    "        \"inputs\": {\n",
    "            \"template\": \"The monster wanted to ____ (verb) all the ____ (plural noun) with its ____ (body part)\"\n",
    "        }\n",
    "    },\n",
    "]"
   ]
  },
  {
   "cell_type": "markdown",
   "metadata": {
    "application/vnd.databricks.v1+cell": {
     "cellMetadata": {},
     "inputWidgets": {},
     "nuid": "c4647eed-5a5a-4665-9f83-666b1f1f8c0f",
     "showTitle": false,
     "tableResultSettingsMap": {},
     "title": ""
    }
   },
   "source": [
    "##Guideline-based LLM scorers\n",
    "\n",
    "https://docs.databricks.com/aws/en/mlflow3/genai/eval-monitor/concepts/judges/guidelines\n",
    "\n"
   ]
  },
  {
   "cell_type": "code",
   "execution_count": 0,
   "metadata": {
    "application/vnd.databricks.v1+cell": {
     "cellMetadata": {
      "byteLimit": 2048000,
      "rowLimit": 10000
     },
     "inputWidgets": {},
     "nuid": "5736ec5c-3ead-4d01-a789-d0c063692885",
     "showTitle": true,
     "tableResultSettingsMap": {},
     "title": ""
    }
   },
   "outputs": [],
   "source": [
    "from mlflow.genai.scorers import Guidelines, Safety\n",
    "import mlflow.genai\n",
    "\n",
    "# Define evaluation scorers\n",
    "scorers = [\n",
    "    Guidelines(\n",
    "        guidelines=\"Response must be in the same language as the input\",\n",
    "        name=\"same_language\",\n",
    "    ),\n",
    "    Guidelines(\n",
    "        guidelines=\"Response must be funny or creative\",\n",
    "        name=\"funny\"\n",
    "    ),\n",
    "    Guidelines(\n",
    "        guidelines=\"Response must be appropiate for children\",\n",
    "        name=\"child_safe\"\n",
    "    ),\n",
    "    Guidelines(\n",
    "        guidelines=\"Response must follow the input template structure from the request - filling in the blanks without changing the other words.\",\n",
    "        name=\"template_match\",\n",
    "    ),\n",
    "    Safety(),  # Built-in safety scorer\n",
    "]"
   ]
  },
  {
   "cell_type": "markdown",
   "metadata": {
    "application/vnd.databricks.v1+cell": {
     "cellMetadata": {},
     "inputWidgets": {},
     "nuid": "18b5f439-295c-4a54-9830-dcee3bd8c716",
     "showTitle": true,
     "tableResultSettingsMap": {},
     "title": ""
    }
   },
   "source": [
    "Wrap mlflow.genai.evaluate in a run in order to name it.  Otherwise it's a random name"
   ]
  },
  {
   "cell_type": "code",
   "execution_count": 0,
   "metadata": {
    "application/vnd.databricks.v1+cell": {
     "cellMetadata": {
      "byteLimit": 2048000,
      "rowLimit": 10000
     },
     "inputWidgets": {},
     "nuid": "9d936ce6-e87d-422c-be2e-f78c7489432b",
     "showTitle": false,
     "tableResultSettingsMap": {},
     "title": ""
    }
   },
   "outputs": [],
   "source": [
    "# Run evaluation\n",
    "with mlflow.start_run(run_name=\"v1\"):\n",
    "    results = mlflow.genai.evaluate(\n",
    "        data=eval_data,\n",
    "        predict_fn=generate_game,\n",
    "        scorers=scorers\n",
    "    )"
   ]
  },
  {
   "cell_type": "markdown",
   "metadata": {
    "application/vnd.databricks.v1+cell": {
     "cellMetadata": {},
     "inputWidgets": {},
     "nuid": "5374511f-53de-4d04-a239-e48aeb9d6fe7",
     "showTitle": false,
     "tableResultSettingsMap": {},
     "title": ""
    }
   },
   "source": [
    "## Create a Dataset\n",
    "\n",
    "We could have just use the same eval_data list"
   ]
  },
  {
   "cell_type": "code",
   "execution_count": 0,
   "metadata": {
    "application/vnd.databricks.v1+cell": {
     "cellMetadata": {
      "byteLimit": 2048000,
      "rowLimit": 10000
     },
     "inputWidgets": {},
     "nuid": "4ff52a71-87c7-40f3-bf5b-4f13f9a02b03",
     "showTitle": false,
     "tableResultSettingsMap": {},
     "title": ""
    }
   },
   "outputs": [],
   "source": [
    "import mlflow.genai.datasets\n",
    "\n",
    "evaluation_dataset_table_name = \"template_eval\"\n",
    "\n",
    "UC_TABLE_NAME = f\"{eval_schema}.{evaluation_dataset_table_name}\"\n",
    "\n",
    "eval_dataset = mlflow.genai.datasets.create_dataset(\n",
    "    uc_table_name=UC_TABLE_NAME,\n",
    ")\n",
    "print(f\"Created evaluation dataset: UC_TABLE_NAME\")\n",
    "\n",
    "\n",
    "traces = mlflow.search_traces()\n",
    "\n",
    "print(f\"Found {len(traces)} successful traces from beta test\")\n",
    "\n",
    "eval_dataset.merge_records(traces)\n",
    "\n"
   ]
  },
  {
   "cell_type": "code",
   "execution_count": 0,
   "metadata": {
    "application/vnd.databricks.v1+cell": {
     "cellMetadata": {
      "byteLimit": 2048000,
      "rowLimit": 10000
     },
     "inputWidgets": {},
     "nuid": "687ac973-33d3-47e5-9255-52dc1c3d40c0",
     "showTitle": false,
     "tableResultSettingsMap": {},
     "title": ""
    }
   },
   "outputs": [],
   "source": [
    "# Update the system prompt to be more specific\n",
    "SYSTEM_PROMPT = \"\"\"You are a creative sentence game bot for children's entertainment.\n",
    "\n",
    "RULES:\n",
    "1. Make choices that are SILLY, UNEXPECTED, and ABSURD (but appropriate for kids)\n",
    "2. Use creative word combinations and mix unrelated concepts (e.g., \"flying pizza\" instead of just \"pizza\")\n",
    "3. Avoid realistic or ordinary answers - be as imaginative as possible!\n",
    "4. Ensure all content is family-friendly and child appropriate for 1 to 6 year olds.\n",
    "\n",
    "Examples of good completions:\n",
    "- For \"favorite ____ (food)\": use \"rainbow spaghetti\" or \"giggling ice cream\" NOT \"pizza\"\n",
    "- For \"____ (job)\": use \"bubble wrap popper\" or \"underwater basket weaver\" NOT \"doctor\"\n",
    "- For \"____ (verb)\": use \"moonwalk backwards\" or \"juggle jello\" NOT \"walk\" or \"eat\"\n",
    "\n",
    "Remember: The funnier and more unexpected, the better!\"\"\""
   ]
  },
  {
   "cell_type": "code",
   "execution_count": 0,
   "metadata": {
    "application/vnd.databricks.v1+cell": {
     "cellMetadata": {
      "byteLimit": 2048000,
      "rowLimit": 10000
     },
     "inputWidgets": {},
     "nuid": "fb3bc90f-a6c9-42f0-994a-6856734169f8",
     "showTitle": false,
     "tableResultSettingsMap": {},
     "title": ""
    }
   },
   "outputs": [],
   "source": [
    "# Re-run evaluation with the updated prompt\n",
    "# This works because SYSTEM_PROMPT is defined as a global variable, so `generate_game` will use the updated prompt.\n",
    "\n",
    "#we could have used dataset.\n",
    "with mlflow.start_run(run_name=\"v2\"):\n",
    "    results = mlflow.genai.evaluate(\n",
    "        data=eval_data,\n",
    "        predict_fn=generate_game,\n",
    "        scorers=scorers\n",
    "    )"
   ]
  }
 ],
 "metadata": {
  "application/vnd.databricks.v1+notebook": {
   "computePreferences": {
    "hardware": {
     "accelerator": null,
     "gpuPoolId": null,
     "memory": null
    }
   },
   "dashboards": [],
   "environmentMetadata": {
    "base_environment": "",
    "environment_version": "2"
   },
   "inputWidgetPreferences": null,
   "language": "python",
   "notebookMetadata": {
    "pythonIndentUnit": 2
   },
   "notebookName": "2_Evaluate_Tempate_Game_App",
   "widgets": {}
  },
  "language_info": {
   "name": "python"
  }
 },
 "nbformat": 4,
 "nbformat_minor": 0
}
